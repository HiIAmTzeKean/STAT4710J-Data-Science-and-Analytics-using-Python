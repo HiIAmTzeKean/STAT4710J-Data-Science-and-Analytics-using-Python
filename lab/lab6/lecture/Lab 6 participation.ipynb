{
 "cells": [
  {
   "cell_type": "markdown",
   "id": "851dbb4e-77e5-456e-903f-d8df3aea6707",
   "metadata": {},
   "source": [
    "## Lab 6: SQL"
   ]
  },
  {
   "cell_type": "markdown",
   "id": "e3597f03",
   "metadata": {},
   "source": [
    "## Exercise (Submit for participation)\n",
    "\n",
    "Convert each Pandas expression to SQL assuming data represents a Pandas DataFrame containing 3 columns: name, rank, and year. Both the rank and year are stored as integers.\n"
   ]
  },
  {
   "cell_type": "code",
   "execution_count": null,
   "id": "197e0ae4",
   "metadata": {},
   "outputs": [],
   "source": [
    "data.loc[data[\"rank\"] < 10, \"name\"].value_counts().reset_index() \n",
    "\n",
    "#Hint:Remember that value counts returns a sorted output!\n",
    "'''\n",
    "SELECT name, COUNT(name) as count_name\n",
    "FROM data\n",
    "WHERE rank < 10\n",
    "GROUP BY name\n",
    "ORDER BY count_name\n",
    ";\n",
    "'''"
   ]
  },
  {
   "cell_type": "code",
   "execution_count": null,
   "id": "84c79c07",
   "metadata": {},
   "outputs": [],
   "source": [
    "data.merge(data,on= \"name\").sort_values(by=\"name\")\n",
    "'''\n",
    "SELECT *\n",
    "FROM data d1 INNER JOIN data d2\n",
    "    ON d1.name = d2.name\n",
    "ORDER BY d1.name\n",
    ";\n",
    "'''"
   ]
  },
  {
   "cell_type": "code",
   "execution_count": null,
   "id": "ffea985a",
   "metadata": {},
   "outputs": [],
   "source": [
    "data.groupby([\"name\",\"year\"])\\\n",
    "    .filter(lambda sdf: len(sdf)>5)\\\n",
    "    .groupby([\"name\",\"year\"])[\"rank\"]\\\n",
    "    .min().reset_index().head(5)\n",
    "    \n",
    "'''\n",
    "SELECT MIN(rank)\n",
    "FROM data\n",
    "GROUP BY name, year\n",
    "HAVING COUNT(*) > 5\n",
    "LIMIT 5\n",
    ";\n",
    "'''"
   ]
  }
 ],
 "metadata": {
  "kernelspec": {
   "display_name": "Python 3 (ipykernel)",
   "language": "python",
   "name": "python3"
  },
  "language_info": {
   "codemirror_mode": {
    "name": "ipython",
    "version": 3
   },
   "file_extension": ".py",
   "mimetype": "text/x-python",
   "name": "python",
   "nbconvert_exporter": "python",
   "pygments_lexer": "ipython3",
   "version": "3.12.2"
  }
 },
 "nbformat": 4,
 "nbformat_minor": 5
}
