{
 "cells": [
  {
   "cell_type": "markdown",
   "metadata": {},
   "source": [
    "# Extra: Fun with Plotly\n",
    "\n"
   ]
  },
  {
   "cell_type": "code",
   "execution_count": null,
   "metadata": {},
   "outputs": [],
   "source": [
    "import numpy as np\n",
    "import plotly.express as px\n",
    "import seaborn as sns\n",
    "import pandas as pd\n",
    "import matplotlib.pyplot as plt"
   ]
  },
  {
   "cell_type": "markdown",
   "metadata": {},
   "source": [
    "## Animated scatter plots"
   ]
  },
  {
   "cell_type": "code",
   "execution_count": null,
   "metadata": {},
   "outputs": [],
   "source": [
    "world = px.data.gapminder()\n",
    "world"
   ]
  },
  {
   "cell_type": "code",
   "execution_count": null,
   "metadata": {},
   "outputs": [],
   "source": [
    "px.scatter(world,\n",
    "           x = 'gdpPercap',\n",
    "           y = 'lifeExp', \n",
    "           hover_name = 'country',\n",
    "           color = 'continent',\n",
    "           size = 'pop',\n",
    "           size_max = 60,\n",
    "           log_x = True,\n",
    "           range_y = [30, 90],\n",
    "           animation_frame = 'year',\n",
    "           title = 'Life Expectancy, GDP Per Capita, and Population over Time'\n",
    "          )"
   ]
  },
  {
   "cell_type": "markdown",
   "metadata": {},
   "source": [
    "## Animated histograms"
   ]
  },
  {
   "cell_type": "code",
   "execution_count": null,
   "metadata": {
    "scrolled": false
   },
   "outputs": [],
   "source": [
    "px.histogram(world,\n",
    "            x = 'lifeExp',\n",
    "            animation_frame = 'year',\n",
    "            range_x = [20, 90],\n",
    "            range_y = [0, 50],\n",
    "            title = 'Distribution of Life Expectancy over Time')"
   ]
  },
  {
   "cell_type": "markdown",
   "metadata": {},
   "source": [
    "## Boxplots"
   ]
  },
  {
   "cell_type": "code",
   "execution_count": null,
   "metadata": {},
   "outputs": [],
   "source": [
    "world_latest = world[world['year']== 2007]\n",
    "world_latest"
   ]
  },
  {
   "cell_type": "code",
   "execution_count": null,
   "metadata": {},
   "outputs": [],
   "source": [
    "px.box(world_latest,\n",
    "       y = 'lifeExp',\n",
    "       x = 'continent',\n",
    "       color = 'continent',\n",
    "       hover_name = 'country',\n",
    "       title = 'Distribution of Life Expectancy in 2007 by Continent'\n",
    "      )"
   ]
  },
  {
   "cell_type": "markdown",
   "metadata": {},
   "source": [
    "## Pie charts"
   ]
  },
  {
   "cell_type": "code",
   "execution_count": null,
   "metadata": {},
   "outputs": [],
   "source": [
    "world_latest[world_latest['continent']=='Americas']"
   ]
  },
  {
   "cell_type": "code",
   "execution_count": null,
   "metadata": {},
   "outputs": [],
   "source": [
    "px.pie(world_latest[world_latest['continent']=='Americas'],\n",
    "       values = 'pop',\n",
    "       names = 'country',\n",
    "       title = 'Population of the Americas'\n",
    ")"
   ]
  },
  {
   "cell_type": "code",
   "execution_count": null,
   "metadata": {},
   "outputs": [],
   "source": [
    "world_for_pie = world_latest \\\n",
    "     .groupby('continent')[['pop']].sum().reset_index()\n",
    "\n",
    "world_for_pie"
   ]
  },
  {
   "cell_type": "code",
   "execution_count": null,
   "metadata": {},
   "outputs": [],
   "source": [
    "px.pie(world_for_pie,\n",
    "      values = 'pop',\n",
    "      names = 'continent',\n",
    "      title = 'World Population by Continent')"
   ]
  },
  {
   "cell_type": "markdown",
   "metadata": {},
   "source": [
    "## Timelines (also known as Gantt charts)"
   ]
  },
  {
   "cell_type": "code",
   "execution_count": null,
   "metadata": {},
   "outputs": [],
   "source": [
    "phases = [\n",
    " ['Newborn', '1998-11-26', '1999-11-26', 'Canada'],\n",
    " ['Toddler, Preschooler', '1999-11-26', '2005-09-03', 'US'],\n",
    " ['Elementary School Student', '2005-09-03', '2009-06-30', 'Canada'],\n",
    " ['Middle School Student', '2009-09-15', '2012-06-15', 'Canada'],\n",
    " ['High School Student', '2012-09-05', '2016-05-30', 'Canada'],\n",
    " ['Undergrad', '2016-08-22','2020-05-15', 'US'],\n",
    " ['Masters', '2020-08-25', '2021-05-14', 'Canada']]\n",
    "\n",
    "phases_table = pd.DataFrame(phases,columns=['Phase', 'Start', 'End', 'Location'])\n",
    "phases_table"
   ]
  },
  {
   "cell_type": "code",
   "execution_count": null,
   "metadata": {},
   "outputs": [],
   "source": [
    "px.timeline(phases_table,\n",
    "           x_start = 'Start',\n",
    "           x_end = 'End',\n",
    "           y = 'Phase',\n",
    "           text = 'Location',\n",
    "           title = 'My Life Trajectory') \\\n",
    ".update_yaxes(autorange='reversed')"
   ]
  },
  {
   "cell_type": "markdown",
   "metadata": {},
   "source": [
    "## Choropleths"
   ]
  },
  {
   "cell_type": "code",
   "execution_count": null,
   "metadata": {},
   "outputs": [],
   "source": [
    "world_latest"
   ]
  },
  {
   "cell_type": "code",
   "execution_count": null,
   "metadata": {},
   "outputs": [],
   "source": [
    "px.choropleth(world_latest,\n",
    "              locations = 'iso_alpha',\n",
    "              color = 'lifeExp',\n",
    "              hover_name = 'country',\n",
    "              title = 'Life Expectancy Per Country',\n",
    "              color_continuous_scale = px.colors.sequential.tempo\n",
    ")"
   ]
  },
  {
   "cell_type": "code",
   "execution_count": null,
   "metadata": {},
   "outputs": [],
   "source": [
    "wm = pd.read_csv('data/walmart.csv')\n",
    "wm"
   ]
  },
  {
   "cell_type": "code",
   "execution_count": null,
   "metadata": {},
   "outputs": [],
   "source": [
    "# Number of Walmarts per state\n",
    "wm_per_state = wm.groupby('STRSTATE').count()\n",
    "wm_per_state"
   ]
  },
  {
   "cell_type": "code",
   "execution_count": null,
   "metadata": {},
   "outputs": [],
   "source": [
    "px.choropleth(wm_per_state,\n",
    "             locations = 'STRSTATE',\n",
    "             color = 'count',\n",
    "             locationmode = 'USA-states',\n",
    "             scope = 'usa',\n",
    "             title = 'Number of Walmarts Per State')"
   ]
  },
  {
   "cell_type": "markdown",
   "metadata": {},
   "source": [
    "## 3D scatter plots"
   ]
  },
  {
   "cell_type": "code",
   "execution_count": null,
   "metadata": {},
   "outputs": [],
   "source": [
    "penguins = sns.load_dataset('penguins')\n",
    "penguins"
   ]
  },
  {
   "cell_type": "code",
   "execution_count": null,
   "metadata": {},
   "outputs": [],
   "source": [
    "px.scatter_3d(penguins,\n",
    "             x = 'bill_length_mm',\n",
    "             y = 'bill_depth_mm',\n",
    "             z = 'flipper_length_mm',\n",
    "             color = 'species',\n",
    "             hover_name = 'island',\n",
    "             title = 'Flipper Length vs. Bill Depth vs. Bill Length')"
   ]
  },
  {
   "cell_type": "code",
   "execution_count": null,
   "metadata": {},
   "outputs": [],
   "source": []
  }
 ],
 "metadata": {
  "kernelspec": {
   "display_name": "Python 3 (ipykernel)",
   "language": "python",
   "name": "python3"
  },
  "language_info": {
   "codemirror_mode": {
    "name": "ipython",
    "version": 3
   },
   "file_extension": ".py",
   "mimetype": "text/x-python",
   "name": "python",
   "nbconvert_exporter": "python",
   "pygments_lexer": "ipython3",
   "version": "3.12.2"
  }
 },
 "nbformat": 4,
 "nbformat_minor": 4
}
